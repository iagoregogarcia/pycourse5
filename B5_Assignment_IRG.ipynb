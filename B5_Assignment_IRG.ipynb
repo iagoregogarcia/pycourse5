{
 "cells": [
  {
   "cell_type": "markdown",
   "metadata": {
    "id": "FWhDeqwKUCMz"
   },
   "source": [
    "# Block 5 Assignment, sponsored by Crospies®\n",
    "\n",
    "Welcome into the first-ever assignment sponsored by Crospies®, the cereals for young and old alike<a name=\"cite_ref-1\"></a>[<sup>[1]</sup>](#cite_note-1)!\n",
    "\n"
   ]
  },
  {
   "cell_type": "markdown",
   "metadata": {
    "id": "Q5dhT-fIWkpL"
   },
   "source": [
    "## 5.1 Eat healty with Crospies®!\n",
    "\n",
    "We all know that breakfast is the most important meal of the day! Unfortunately, some of us are susceptible to food allergies... With Crospies®, you are sure to get all the nutrients you need to start your day<a name=\"cite_ref-2\"></a>[<sup>[2]</sup>](#cite_note-2)!"
   ]
  },
  {
   "cell_type": "markdown",
   "metadata": {
    "id": "LfoOf_q9Y0pQ"
   },
   "source": [
    "The composition of a few breakfast staples is given in the dictionary `breakfast_foods` below."
   ]
  },
  {
   "cell_type": "code",
   "execution_count": 2,
   "metadata": {
    "id": "PODj9TKST-0O"
   },
   "outputs": [],
   "source": [
    "breakfast_foods = {\"Frosties\": [\"Corn\", \"Sugar\", \"Barley\", \"Salt\"],\n",
    "                   \"Scrambled eggs\": [\"Egg\", \"Salt\", \"Butter\"],\n",
    "                   \"Waffles\": [\"Wheat\", \"Salt\", \"Baking powder\", \"Sugar\", \"Egg\", \"Milk\", \"Butter\"],\n",
    "                   \"Strawberry jam\": [\"Strawberry\", \"Sugar\", \"Lemon juice\"],\n",
    "                   \"Yogurt with granola\": [\"Milk\", \"Honey\", \"Oat\", \"Pumpkin seed\", \"Coconut flake\"],\n",
    "                   \"Crospies®\": [\"Milk\", \"Egg\", \"Peanut\", \"Soy\", \"Wheat\", \"Shellfish\", \"Sesame\", \"Corn\", \"Barley\", \"Butter\", \"Baking powder\", \"Strawberry\", \"Lemon juice\", \"Honey\", \"Oat\", \"Pumpkin seed\", \"Coconut flake\", \"Salt\", \"Sugar\", \"Pollen\", \"Asbestos\"]}"
   ]
  },
  {
   "cell_type": "markdown",
   "metadata": {
    "id": "Qu7ytSwJZUGM"
   },
   "source": [
    "### 5.1.1 Remove the allergens\n",
    "Create a function `remove_allergens` that takes as parameters:\n",
    "* The dictionary `breakfast_foods`\n",
    "* An allergen\n",
    "\n",
    "The function should return a list containing the name of the breakfast foods that **do not** contain the allergen.\n",
    "\n",
    "For example, if the allergen selected is `\"Egg\"`, the function should return a list containing `\"Frosties\"`, `\"Strawberry Jam\"` and `\"Yogurt with granola\"`."
   ]
  },
  {
   "cell_type": "code",
   "execution_count": 152,
   "metadata": {
    "colab": {
     "base_uri": "https://localhost:8080/"
    },
    "id": "NXxU6u2XcKZ8",
    "outputId": "d6a27a1d-106f-46ef-e6f8-af9200bd0af0"
   },
   "outputs": [
    {
     "name": "stdout",
     "output_type": "stream",
     "text": [
      "['Frosties', 'Strawberry jam', 'Yogurt with granola']\n"
     ]
    }
   ],
   "source": [
    "def remove_allergens(breakfast_foods, allergen):\n",
    "    valid_breakfast_foods = []\n",
    "    for breakfast in breakfast_foods:   #loop for each food \n",
    "    # I had made it complicated with i and range (use dictionary features!!)\n",
    "    # Also because previous versions of Python do not have order in dictionaries\n",
    "        if allergen not in breakfast_foods[breakfast]:   \n",
    "            valid_breakfast_foods.append(breakfast)\n",
    "    return valid_breakfast_foods\n",
    "\n",
    "print(remove_allergens(breakfast_foods, \"Egg\"))"
   ]
  },
  {
   "cell_type": "markdown",
   "metadata": {
    "id": "uiktWAXYccAk"
   },
   "source": [
    "### 5.1.2 Remove the allergens by default\n",
    "\n",
    "Copy your function from 5.1.1 below. Add a third parameter with a default value of `True`:\n",
    "\n",
    "* If the parameter value is `True`, the function should do the same as before, i.e., returning the foods **without the allergens**.\n",
    "* If the parameter value is `False`, the function should return the foods **that contain the allergens**.\n",
    "\n",
    "Modify the name of your function (and, potentially, of your variables) in consequence."
   ]
  },
  {
   "cell_type": "code",
   "execution_count": 57,
   "metadata": {
    "colab": {
     "base_uri": "https://localhost:8080/"
    },
    "id": "gqVNYoMydhBG",
    "outputId": "93e507c1-ec99-4fcc-9144-ea912d99a025"
   },
   "outputs": [
    {
     "name": "stdout",
     "output_type": "stream",
     "text": [
      "['Frosties', 'Waffles', 'Strawberry jam', 'Crospies®']\n"
     ]
    }
   ],
   "source": [
    "def filter_foods_without_or_with (breakfast_foods, allergen, without_or_with = True):\n",
    "    \"\"\"This function returns a list of foods from the menu (dictionary in first argument)\n",
    "    that do not contain (third argument, True by default) or contain (third argument False)\n",
    "    the allergen (second argument).\"\"\"\n",
    "    selected_breakfast_foods = []\n",
    "    if without_or_with == True:\n",
    "        for i in range (0, len(breakfast_foods)):\n",
    "            if allergen not in list(breakfast_foods.values())[i]:\n",
    "                selected_breakfast_foods.append (list(breakfast_foods.keys())[i])\n",
    "        return (selected_breakfast_foods)\n",
    "    elif without_or_with == False:\n",
    "        for i in range (0, len(breakfast_foods)):\n",
    "            if allergen in list(breakfast_foods.values())[i]:\n",
    "                selected_breakfast_foods.append (list(breakfast_foods.keys())[i])\n",
    "        return (selected_breakfast_foods)\n",
    "    else:\n",
    "        print (\"Invalid argument: third argument must be either True (default) or False\")\n",
    "        print (\"True if you want to see the options without the allergen, False if with\")\n",
    "\n",
    "print (filter_foods_without_or_with (breakfast_foods, \"Sugar\", False))"
   ]
  },
  {
   "cell_type": "markdown",
   "metadata": {
    "id": "INriNNpHdxzS"
   },
   "source": [
    "### 5.1.3 Offer substitutions\n",
    "\n",
    "It is possible to replace certain ingredients by others. Below is a list of the ingredients you may replace:"
   ]
  },
  {
   "cell_type": "code",
   "execution_count": 59,
   "metadata": {
    "id": "XO3Mp0dNftld"
   },
   "outputs": [],
   "source": [
    "substitutions = {\"Egg\": \"Banana purée\",\n",
    "                 \"Sugar\": \"Aspartame\",\n",
    "                 \"Butter\": \"Oil\"}"
   ]
  },
  {
   "cell_type": "markdown",
   "metadata": {
    "id": "UAlQLdQ8gEio"
   },
   "source": [
    "Copy your function from 5.1.2 below. \n",
    "\n",
    "Inside, add a condition: if a dish contains the allergen, **call a new function**. \n",
    "\n",
    "This new function will try to **replace the allergen in the dish** if a substitution exists for it.\n",
    "\n",
    "* If the substitution is possible and your main function **returns the dishes without allergens**, your function should add the name of the dish to the list, with `\" (with substitution)\"` appended to it. For example, it is possible to replace the eggs with banana purée. If the allergen is `\"Egg\"`, `\"Scrambled eggs (with substitution)\"` should be added to the list.\n",
    "\n",
    "* If the function **returns the dishes with allergens**, do not look for substitutions: return the list of dishes with the allergens, as your function in 5.1.2 did.\n",
    "\n"
   ]
  },
  {
   "cell_type": "code",
   "execution_count": 156,
   "metadata": {
    "colab": {
     "base_uri": "https://localhost:8080/"
    },
    "id": "2oDJW3GEhqH0",
    "outputId": "b6b2520d-d537-404b-f9b5-02dab4e39b23"
   },
   "outputs": [
    {
     "name": "stdout",
     "output_type": "stream",
     "text": [
      "['Frosties', 'Scrambled eggs', 'Waffles', 'Strawberry jam', 'Yogurt with granola']\n"
     ]
    }
   ],
   "source": [
    "def filter_foods_without_or_with(breakfast_foods, allergen, without_or_with = True):\n",
    "    \"\"\"This function returns a list of foods from the menu (dictionary in first argument)\n",
    "    that do not contain (third argument, True by default) or contain (third argument False)\n",
    "    the allergen (second argument).\"\"\"\n",
    "    selected_breakfast_foods = []\n",
    "    if without_or_with == True:\n",
    "        for i in range(0, len(breakfast_foods)):\n",
    "            if allergen not in list(breakfast_foods.values())[i]:\n",
    "                selected_breakfast_foods.append(list(breakfast_foods.keys())[i])\n",
    "            else:\n",
    "                substituted_meal = replace_ingredient(list(breakfast_foods.keys())[i], allergen)\n",
    "                if substituted_meal is not None: # None is an entity, not a value\n",
    "                    selected_breakfast_foods.append(substituted_meal)\n",
    "        return(selected_breakfast_foods)\n",
    "    elif without_or_with == False:\n",
    "        for i in range (0, len(breakfast_foods)):\n",
    "            if allergen in list(breakfast_foods.values())[i]:\n",
    "                selected_breakfast_foods.append (list(breakfast_foods.keys())[i])\n",
    "        return (selected_breakfast_foods)\n",
    "    else:\n",
    "        print (\"Invalid argument: third argument must be either True (default) or False\")\n",
    "        print (\"True if you want to see the options without the allergen, False if with\")\n",
    "\n",
    "def replace_ingredient (food, allergen):\n",
    "    if allergen in list(substitutions.keys()):\n",
    "        substituted_meal = food + \" with substitution\"\n",
    "        return substituted_meal \n",
    "\n",
    "print (filter_foods_without_or_with (breakfast_foods, \"Asbestos\"))"
   ]
  },
  {
   "cell_type": "markdown",
   "metadata": {
    "id": "barNOjNYWzmL"
   },
   "source": [
    "## 5.2 Let's have lunch in town with Crospies®!\n",
    "\n",
    "What a morning it was after a big bowl of Crospies®! You were full of energy<a name=\"cite_ref-3\"></a>[<sup>[3]</sup>](#cite_note-3), but now, it is time for lunch. We invite you to one of our partner restaurants for a lunch of your choice!"
   ]
  },
  {
   "cell_type": "markdown",
   "metadata": {
    "id": "bP14eDkFSlP3"
   },
   "source": [
    "### 5.2.1 All possible meals\n",
    "The representatives of Crospies®<a name=\"cite_ref-4\"></a>[<sup>[4]</sup>](#cite_note-4) invited you to a restaurant. While looking at the menu, you are wondering what could be all the combinations of dishes you could make.\n",
    "\n",
    "Create a function `get_all_subsets` that gets all of the possible combinations of meals you can get from the menu.\n",
    "\n",
    "For example, if the menu was made of three items `\"A\"`, `\"B\"` and `\"C\"`, the possible combinations would be:\n",
    "```\n",
    "[]\n",
    "[\"A\"]\n",
    "[\"B\"]\n",
    "[\"C\"]\n",
    "[\"A\", \"B\"]\n",
    "[\"A\", \"C\"]\n",
    "[\"B\", \"C\"]\n",
    "[\"A\", \"B\", \"C\"]\n",
    "```\n",
    "\n",
    "Note: it is possible to do this exercise using loops, or, for an extra challenge, recursivity (though the logic will be very similar).\n",
    "\n",
    "<details><summary>Hint 1</summary>\n",
    "\n",
    "Every time you add an element to a list, you create new possible subsets by adding the element you added to every subset you add before. For exemple, let's say you had elements `\"A\"` and `\"B\"`. Your possible subsets are:\n",
    "\n",
    "```\n",
    "[]\n",
    "[\"A\"]\n",
    "[\"B\"]\n",
    "[\"A\", \"B\"]\n",
    "```\n",
    "\n",
    "If you add `\"C\"`, the possible subsets are now the same as above, times 2: you can add `\"C\"` to each of these subsets to get the new ones:\n",
    "\n",
    "```\n",
    "[\"C\"]              # [] + \"C\"\n",
    "[\"A\", \"C\"]         # [\"A\"] + \"C\"\n",
    "[\"B\", \"C\"]         # [\"B\"] + \"C\"\n",
    "[\"A\", \"B\", \"C\"]    # [\"A\", \"B\"] + \"C\"\n",
    "```\n",
    "\n",
    "If you add `\"D\"`, you need to add \"D\" to each of the 8 previously created subsets; so on and so forth.\n",
    "\n",
    "</details>\n",
    "\n",
    "<details><summary>Hint 2</summary>\n",
    "\n",
    "You need to start your list of subsets by having an **empty subset** in it: by iterating through the dishes, this allows to always create a subset that contains the dish as the only element.\n",
    "\n",
    "</details>"
   ]
  },
  {
   "cell_type": "code",
   "execution_count": 58,
   "metadata": {
    "id": "NWo85go9zzEe"
   },
   "outputs": [],
   "source": [
    "menu = {\"Some fava beans and a nice chianti\": 12,\n",
    "        \"Quarter pounder with cheese\": 6.50,\n",
    "        \"Tyler's bull***t\": 17,\n",
    "        \"Dubious food\": 8.50,\n",
    "        \"Bubba's shrimp\": 10.50,\n",
    "        \"Crospies\": 5.50}"
   ]
  },
  {
   "cell_type": "code",
   "execution_count": 97,
   "metadata": {},
   "outputs": [
    {
     "name": "stdout",
     "output_type": "stream",
     "text": [
      "['Crospies', \"Bubba's shrimp\", \"Bubba's shrimp\", 'Dubious food', 'Dubious food', 'Dubious food', 'Dubious food', \"Tyler's bull***t\", \"Tyler's bull***t\", \"Tyler's bull***t\", \"Tyler's bull***t\", \"Tyler's bull***t\", \"Tyler's bull***t\", \"Tyler's bull***t\", \"Tyler's bull***t\", 'Quarter pounder with cheese', 'Quarter pounder with cheese', 'Quarter pounder with cheese', 'Quarter pounder with cheese', 'Quarter pounder with cheese', 'Quarter pounder with cheese', 'Quarter pounder with cheese', 'Quarter pounder with cheese', 'Quarter pounder with cheese', 'Quarter pounder with cheese', 'Quarter pounder with cheese', 'Quarter pounder with cheese', 'Quarter pounder with cheese', 'Quarter pounder with cheese', 'Quarter pounder with cheese', 'Quarter pounder with cheese', 'Some fava beans and a nice chianti', 'Some fava beans and a nice chianti', 'Some fava beans and a nice chianti', 'Some fava beans and a nice chianti', 'Some fava beans and a nice chianti', 'Some fava beans and a nice chianti', 'Some fava beans and a nice chianti', 'Some fava beans and a nice chianti', 'Some fava beans and a nice chianti', 'Some fava beans and a nice chianti', 'Some fava beans and a nice chianti', 'Some fava beans and a nice chianti', 'Some fava beans and a nice chianti', 'Some fava beans and a nice chianti', 'Some fava beans and a nice chianti', 'Some fava beans and a nice chianti', 'Some fava beans and a nice chianti', 'Some fava beans and a nice chianti', 'Some fava beans and a nice chianti', 'Some fava beans and a nice chianti', 'Some fava beans and a nice chianti', 'Some fava beans and a nice chianti', 'Some fava beans and a nice chianti', 'Some fava beans and a nice chianti', 'Some fava beans and a nice chianti', 'Some fava beans and a nice chianti', 'Some fava beans and a nice chianti', 'Some fava beans and a nice chianti', 'Some fava beans and a nice chianti', 'Some fava beans and a nice chianti', 'Some fava beans and a nice chianti', 'Some fava beans and a nice chianti']\n"
     ]
    }
   ],
   "source": [
    "print(get_all_subsets(menu)[50])"
   ]
  },
  {
   "cell_type": "code",
   "execution_count": 139,
   "metadata": {},
   "outputs": [
    {
     "name": "stdout",
     "output_type": "stream",
     "text": [
      "64\n",
      "<class 'list'>\n",
      "0\n"
     ]
    }
   ],
   "source": [
    "def get_all_subsets(current_list):\n",
    "    \"\"\"This function returns all possible combinations of elements in a list including none of them and all\n",
    "    of them, without regard to their order. It does it using recursivity\"\"\"\n",
    "    if isinstance (current_list, dict): # In case input is a dictionary, the function works with its keys\n",
    "        current_list = list (current_list.keys())\n",
    "    if len(current_list) == 0: # Index case with a list made of an empty list in case the input is empty\n",
    "        return [[]]\n",
    "    else:\n",
    "        new_list = current_list[1:] # We remove one element (the first) to create a new list to input\n",
    "        # Then we define the subsets available considering the subsets in the inmediately smaller list\n",
    "        previous_all_to_append = get_all_subsets(new_list)\n",
    "        return previous_all_to_append + [[current_list[0]] + subset for subset in previous_all_to_append] #simplified\n",
    "\n",
    "print (len (get_all_subsets(menu)))\n",
    "print (type (get_all_subsets(menu)))\n",
    "print (len (get_all_subsets(menu)[0]))\n",
    "#print (get_all_subsets (menu))"
   ]
  },
  {
   "cell_type": "code",
   "execution_count": 129,
   "metadata": {
    "colab": {
     "base_uri": "https://localhost:8080/"
    },
    "id": "K8_N5m3IJE6c",
    "outputId": "e002db3f-bfdb-4bd8-b28a-74198eddcb7b"
   },
   "outputs": [
    {
     "name": "stdout",
     "output_type": "stream",
     "text": [
      "64\n",
      "<class 'list'>\n",
      "63\n"
     ]
    }
   ],
   "source": [
    "# This is made with a similar logic but something in the for loop does not work the way I expect\n",
    "\n",
    "def get_all_subsets(current_list):\n",
    "    \"\"\"This function returns all possible combinations of elements in a list including none of them and all\n",
    "    of them, without regard to their order. It does it using recursivity\"\"\"\n",
    "    if isinstance (current_list, dict): # In case input is a dictionary, the function works with its keys\n",
    "        current_list = list (current_list.keys())\n",
    "    if len(current_list) == 0: # Index case with a list made of an empty list in case the input is empty\n",
    "        return [[]]\n",
    "    else:\n",
    "        new_list = current_list[1:] # We remove one element (the first) to create a new list to input\n",
    "        # Then we define the subsets available considering the subsets in the inmediately smaller list\n",
    "        previous_all_to_append = get_all_subsets(new_list)\n",
    "        previous_all_copy = previous_all_to_append.copy() # we need a deep copy (not just a reference)\n",
    "        for subset in previous_all_to_append:\n",
    "            subset.append(current_list[0])\n",
    "        return previous_all_copy + previous_all_to_append\n",
    "\n",
    "print (len (get_all_subsets(menu)))\n",
    "print (type (get_all_subsets(menu)))\n",
    "print (len(get_all_subsets(menu)[0]))\n",
    "#print (get_all_subsets (menu))\n"
   ]
  },
  {
   "cell_type": "markdown",
   "metadata": {
    "id": "A2sOE6RH3X06"
   },
   "source": [
    "### 5.2.2 Calculate the price of a meal\n",
    "\n",
    "Create a function `get_meal_price` that returns the price of a meal (a list made of dishes) by summing the price of all of its dishes.\n",
    "\n",
    "For example, summing the dishes contained in `['Dubious food', \"Bubba's shrimp\", 'Crospies']` should return 24.5 €."
   ]
  },
  {
   "cell_type": "code",
   "execution_count": 208,
   "metadata": {
    "colab": {
     "base_uri": "https://localhost:8080/"
    },
    "id": "hh0iNLJX3m8a",
    "outputId": "f221d26e-b1b8-4858-9483-ca4e42d78b7e"
   },
   "outputs": [
    {
     "name": "stdout",
     "output_type": "stream",
     "text": [
      "24.5\n"
     ]
    },
    {
     "data": {
      "text/plain": [
       "float"
      ]
     },
     "execution_count": 208,
     "metadata": {},
     "output_type": "execute_result"
    }
   ],
   "source": [
    "def get_meal_price(meal):\n",
    "    price = 0\n",
    "    for dish in meal:\n",
    "        price_dish = menu[dish]\n",
    "        price += price_dish\n",
    "    return price\n",
    "\n",
    "meal_1 = ['Dubious food', \"Bubba's shrimp\", 'Crospies']\n",
    "print(get_meal_price(meal_1))\n",
    "type (get_meal_price(meal_1))"
   ]
  },
  {
   "cell_type": "markdown",
   "metadata": {
    "id": "zsD1Ve48S7je"
   },
   "source": [
    "### 5.2.3 Make your menu!\n",
    "The brand Crospies® offered you 20€ to compose your menu<a name=\"cite_ref-5\"></a>[<sup>[5]</sup>](#cite_note-5)! Choose wisely!"
   ]
  },
  {
   "cell_type": "markdown",
   "metadata": {
    "id": "cyFetHa9cCW2"
   },
   "source": [
    "Create a function `get_affordable_meals`. \n",
    "\n",
    "The function should return a list of the menu combinations that are affordable with your budget. \n",
    "\n",
    "The budget should be a parameter of your function."
   ]
  },
  {
   "cell_type": "code",
   "execution_count": 200,
   "metadata": {
    "colab": {
     "base_uri": "https://localhost:8080/"
    },
    "id": "fKM3K9fFcQkr",
    "outputId": "63e4367c-8fb1-4805-9949-7bb4f3840e30"
   },
   "outputs": [
    {
     "data": {
      "text/plain": [
       "[[], ['Crospies'], ['Dubious food'], ['Quarter pounder with cheese']]"
      ]
     },
     "execution_count": 200,
     "metadata": {},
     "output_type": "execute_result"
    }
   ],
   "source": [
    "def get_affordable_meals(budget):\n",
    "    affordable_meals = []\n",
    "    for meal in get_all_subsets(menu):\n",
    "        if get_meal_price(meal) <= budget:\n",
    "            affordable_meals.append(meal)\n",
    "    return affordable_meals\n",
    "\n",
    "get_affordable_meals(10)\n"
   ]
  },
  {
   "cell_type": "markdown",
   "metadata": {
    "id": "jhqaux6ZddKf"
   },
   "source": [
    "### 5.2.4 Display a meal\n",
    "\n",
    "Create a function `display_meal`. Given a meal, the function should print the courses it contains **in alphabetical order**, separated by commas. At the end of the line, the sum of the meal should be displayed.\n",
    "\n",
    "For example, if the meal is `[\"Dubious foud\", \"Bubba's shrimp\", \"Crospies\"]`, the function should print:\n",
    "```\n",
    "Bubba's shrimp, Crospies, Dubious food: 24.50 €\n",
    "```\n",
    "\n",
    "Create a special case when the menu is empty that prints instead:\n",
    "```\n",
    "Nothing: 0 €\n",
    "```"
   ]
  },
  {
   "cell_type": "code",
   "execution_count": 236,
   "metadata": {
    "colab": {
     "base_uri": "https://localhost:8080/"
    },
    "id": "k-scg3rX3FVN",
    "outputId": "63c686d8-4bfd-4027-f1e1-f5c8d70e083b"
   },
   "outputs": [
    {
     "name": "stdout",
     "output_type": "stream",
     "text": [
      "Bubba's shrimp, Tyler's bull***t: 27.5 €\n"
     ]
    }
   ],
   "source": [
    "def display_meal(meal):\n",
    "    meal.sort()\n",
    "    if len(meal) == 0:\n",
    "        print (\"Nothing\", end='')\n",
    "    for dish in meal:\n",
    "        print (dish, end='')\n",
    "        if dish is not meal[-1]:\n",
    "            print (', ', end='')\n",
    "    print (\": \", end='')\n",
    "    print (get_meal_price(meal), end='')\n",
    "    print (\" €\")\n",
    "\n",
    "display_meal (get_all_subsets(menu)[10])\n",
    "    "
   ]
  },
  {
   "cell_type": "markdown",
   "metadata": {
    "id": "WLW884-L4rHO"
   },
   "source": [
    "### 5.2.5 Display all of your possibilities\n",
    "\n",
    "Now, using all of the functions you created until now, create a meta-function `display_combinations` that take the menu and your budget as parameters. \n",
    "\n",
    "The function should print all of the meals you can afford, in increasing price order."
   ]
  },
  {
   "cell_type": "code",
   "execution_count": 242,
   "metadata": {},
   "outputs": [
    {
     "name": "stdout",
     "output_type": "stream",
     "text": [
      "[[]]\n",
      "Nothing: 0 €\n"
     ]
    }
   ],
   "source": [
    "affordable_meals_sorted = [[]]\n",
    "for meal in get_affordable_meals(10):\n",
    "    if affordable_meals_sorted == 0:\n",
    "        affordable_meals_sorted.append(meal)\n",
    "\n",
    "print (affordable_meals_sorted)\n",
    "for meal in affordable_meals_sorted:\n",
    "    display_meal(meal)\n",
    "\n"
   ]
  },
  {
   "cell_type": "code",
   "execution_count": 254,
   "metadata": {
    "colab": {
     "base_uri": "https://localhost:8080/"
    },
    "id": "_U1kIy0k4-BC",
    "outputId": "aa3cab3e-01db-4d31-e967-6410df4e24f2"
   },
   "outputs": [
    {
     "name": "stdout",
     "output_type": "stream",
     "text": [
      "Nothing: 0 €\n",
      "Crospies: 5.5 €\n",
      "Quarter pounder with cheese: 6.5 €\n",
      "Dubious food: 8.5 €\n",
      "Bubba's shrimp: 10.5 €\n",
      "Some fava beans and a nice chianti: 12 €\n",
      "Crospies, Quarter pounder with cheese: 12.0 €\n",
      "Crospies, Dubious food: 14.0 €\n",
      "Dubious food, Quarter pounder with cheese: 15.0 €\n"
     ]
    }
   ],
   "source": [
    "def display_combinations(menu, budget):\n",
    "    affordable_meals_sorted = [[]]\n",
    "    for meal in get_affordable_meals(budget):\n",
    "        if meal == []:\n",
    "            continue\n",
    "        if get_meal_price(meal) >= get_meal_price(affordable_meals_sorted[-1]):\n",
    "            affordable_meals_sorted.append(meal)\n",
    "        elif get_meal_price(meal) <= get_meal_price(affordable_meals_sorted[0]):\n",
    "            affordable_meals_sorted.insert(0,meal)\n",
    "        else:\n",
    "            for i in range(0,len(affordable_meals_sorted)):\n",
    "                if get_meal_price(meal) >= get_meal_price(affordable_meals_sorted[i]) and get_meal_price(meal) <= get_meal_price(affordable_meals_sorted[i+1]):\n",
    "                    affordable_meals_sorted.insert(i+1,meal)\n",
    "                    break\n",
    "    \n",
    "    for meal in affordable_meals_sorted:\n",
    "        display_meal(meal)\n",
    "\n",
    "display_combinations(menu, 15)"
   ]
  },
  {
   "cell_type": "markdown",
   "metadata": {
    "id": "sUGGStY6WjEl"
   },
   "source": [
    "<a name=\"cite_note-1\"></a>[1:](#cite_ref-1) The consumption of Crospies® is not recommended before 12 years of age, for pregnant women, for wearers of a pacemaker, for people having heart issues, for people working with children, and for people working in nuclear facilities.\n",
    "\n",
    "<a name=\"cite_note-2\"></a>[2:](#cite_ref-2) The nutritional value of Crospies® does not reach the standards required by the World Health Organisation, the European Food Safety Authority, or the Food and Drug Administration. The quantity of salt contained in 100g of Crospies® is over the hourly recommended dose for an adult.\n",
    "\n",
    "<a name=\"cite_note-3\"></a>[3:](#cite_ref-3) Crospies® has great energetic value, as it contains traces of Uranium-235 and Radon-209.\n",
    "\n",
    "<a name=\"cite_note-4\"></a>[4:](#cite_ref-4) If Crospies® gets in contact with your skin or your eyes, rinse abundantly with cold water for a few minutes, and seek medical advice. While the contents of Crospies® come packed in a lead-reinforced box, it is not recommended to stay in the same room as a pack of Crospies® for an extended period of time.  \n",
    "\n",
    "<a name=\"cite_note-5\"></a>[5:](#cite_ref-5) By doing this exercise, you are legally bound to include Crospies® in your menu. Failure to do so will result in charges pressed against you, your children, your children's children - along with other of your descendants which you can display using a recursive function."
   ]
  }
 ],
 "metadata": {
  "colab": {
   "provenance": []
  },
  "kernelspec": {
   "display_name": "Python 3 (ipykernel)",
   "language": "python",
   "name": "python3"
  },
  "language_info": {
   "codemirror_mode": {
    "name": "ipython",
    "version": 3
   },
   "file_extension": ".py",
   "mimetype": "text/x-python",
   "name": "python",
   "nbconvert_exporter": "python",
   "pygments_lexer": "ipython3",
   "version": "3.11.5"
  }
 },
 "nbformat": 4,
 "nbformat_minor": 4
}
